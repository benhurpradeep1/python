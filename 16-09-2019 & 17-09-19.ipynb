{
 "cells": [
  {
   "cell_type": "code",
   "execution_count": 1,
   "metadata": {},
   "outputs": [
    {
     "name": "stdout",
     "output_type": "stream",
     "text": [
      "12\n",
      "100\n"
     ]
    }
   ],
   "source": [
    "A=10\n",
    "B=2\n",
    "print(A+B)\n",
    "print(A**B)"
   ]
  },
  {
   "cell_type": "markdown",
   "metadata": {},
   "source": [
    "<img src ='py.png'/>"
   ]
  },
  {
   "cell_type": "code",
   "execution_count": 15,
   "metadata": {},
   "outputs": [
    {
     "data": {
      "text/plain": [
       "'C:\\\\Users\\\\cse319\\\\Desktop\\\\problem solving and programming'"
      ]
     },
     "execution_count": 15,
     "metadata": {},
     "output_type": "execute_result"
    }
   ],
   "source": [
    "pwd\n"
   ]
  },
  {
   "cell_type": "code",
   "execution_count": 17,
   "metadata": {},
   "outputs": [
    {
     "name": "stdout",
     "output_type": "stream",
     "text": [
      "hello gitam vizag\n"
     ]
    }
   ],
   "source": [
    "print(\"hello gitam \",end='')\n",
    "print('vizag')"
   ]
  },
  {
   "cell_type": "code",
   "execution_count": 24,
   "metadata": {},
   "outputs": [
    {
     "name": "stdout",
     "output_type": "stream",
     "text": [
      "100<class 'str'>\n",
      "100.0<class 'float'>\n",
      "100<class 'int'>\n"
     ]
    }
   ],
   "source": [
    "s1=\"100\"\n",
    "print(s1, end='')\n",
    "print(type(s1))\n",
    "a1=float(s1)\n",
    "print(a1,end='')\n",
    "print(type(a1))\n",
    "a2=int(a1)\n",
    "print(a2,end='')\n",
    "print(type(a2))"
   ]
  },
  {
   "cell_type": "code",
   "execution_count": 26,
   "metadata": {},
   "outputs": [
    {
     "name": "stdout",
     "output_type": "stream",
     "text": [
      "4\n",
      "<class 'int'>\n"
     ]
    }
   ],
   "source": [
    "a=1000\n",
    "print(len(str(a)))\n",
    "print(type(a))"
   ]
  },
  {
   "cell_type": "code",
   "execution_count": 1,
   "metadata": {},
   "outputs": [
    {
     "name": "stdout",
     "output_type": "stream",
     "text": [
      "16\n"
     ]
    }
   ],
   "source": [
    "print(2**4)"
   ]
  },
  {
   "cell_type": "code",
   "execution_count": 2,
   "metadata": {},
   "outputs": [
    {
     "name": "stdout",
     "output_type": "stream",
     "text": [
      "roll:37\n",
      "37 <class 'str'>\n"
     ]
    }
   ],
   "source": [
    "s2=input('roll:')\n",
    "print(s2, type(s2))"
   ]
  },
  {
   "cell_type": "code",
   "execution_count": 6,
   "metadata": {},
   "outputs": [
    {
     "name": "stdout",
     "output_type": "stream",
     "text": [
      "8.0\n",
      "<class 'float'>\n"
     ]
    }
   ],
   "source": [
    "x=1+2**3/4+5\n",
    "print(x)\n",
    "print(type(x))"
   ]
  },
  {
   "cell_type": "markdown",
   "metadata": {},
   "source": [
    "# logical \n",
    "## or not and"
   ]
  },
  {
   "cell_type": "code",
   "execution_count": 10,
   "metadata": {},
   "outputs": [
    {
     "name": "stdout",
     "output_type": "stream",
     "text": [
      "False <class 'bool'>\n"
     ]
    }
   ],
   "source": [
    "a=9\n",
    "b= (a>9) and (a>=10)\n",
    "print(b,type(b))\n",
    "\n"
   ]
  },
  {
   "cell_type": "markdown",
   "metadata": {},
   "source": [
    "# control statements\n",
    "    -conditional\n",
    "        - if - else\n",
    "    - looping constraints\n",
    "        - while\n",
    "        - for"
   ]
  },
  {
   "cell_type": "code",
   "execution_count": 13,
   "metadata": {},
   "outputs": [
    {
     "name": "stdout",
     "output_type": "stream",
     "text": [
      "enter a number5\n",
      "5  is odd\n"
     ]
    }
   ],
   "source": [
    "a1= int(input('enter a number'))\n",
    "if a1%2 == 0:\n",
    "    print(a1,' is even')\n",
    "else:\n",
    "    print(a1,' is odd')"
   ]
  },
  {
   "cell_type": "code",
   "execution_count": 16,
   "metadata": {},
   "outputs": [
    {
     "name": "stdout",
     "output_type": "stream",
     "text": [
      "no = -7\n",
      "-ve\n"
     ]
    }
   ],
   "source": [
    "x=int(input('no = '))\n",
    "if x ==0:\n",
    "    print('zero')\n",
    "elif x>0:\n",
    "    print('+ve')\n",
    "elif x<0:\n",
    "    print('-ve')\n",
    "    "
   ]
  },
  {
   "cell_type": "markdown",
   "metadata": {},
   "source": [
    "- ben"
   ]
  },
  {
   "cell_type": "code",
   "execution_count": 17,
   "metadata": {},
   "outputs": [
    {
     "name": "stdout",
     "output_type": "stream",
     "text": [
      "5\n"
     ]
    }
   ],
   "source": [
    "x=int(5)\n",
    "print(x)\n"
   ]
  },
  {
   "cell_type": "markdown",
   "metadata": {},
   "source": [
    "_give_"
   ]
  },
  {
   "cell_type": "code",
   "execution_count": 6,
   "metadata": {},
   "outputs": [
    {
     "name": "stdout",
     "output_type": "stream",
     "text": [
      "001\n",
      "1"
     ]
    }
   ],
   "source": [
    "n= int ( input(''))\n",
    "while n!= 0:\n",
    "        print(n%10, end='')\n",
    "        n=n//10\n"
   ]
  },
  {
   "cell_type": "markdown",
   "metadata": {},
   "source": [
    "# functional programmming (17-09-2019)\n",
    "- simple\n",
    "- easy to understand\n",
    "- reusability\n"
   ]
  },
  {
   "cell_type": "code",
   "execution_count": null,
   "metadata": {},
   "outputs": [],
   "source": [
    "def nameOFFunction(parameters)\n",
    "statements"
   ]
  },
  {
   "cell_type": "code",
   "execution_count": 9,
   "metadata": {},
   "outputs": [
    {
     "data": {
      "text/plain": [
       "20"
      ]
     },
     "execution_count": 9,
     "metadata": {},
     "output_type": "execute_result"
    }
   ],
   "source": [
    "def evenDigitSum(n):\n",
    "    s=0\n",
    "    while n!= 0:\n",
    "        r= n%10\n",
    "        if r %2 == 0:\n",
    "            s = s+r\n",
    "        n= n // 10\n",
    "    return s\n",
    "evenDigitSum(123468)\n",
    "    \n",
    "    \n",
    "    "
   ]
  },
  {
   "cell_type": "code",
   "execution_count": 15,
   "metadata": {},
   "outputs": [
    {
     "data": {
      "text/plain": [
       "7"
      ]
     },
     "execution_count": 15,
     "metadata": {},
     "output_type": "execute_result"
    }
   ],
   "source": [
    "#input a numbr\n",
    "# output largest of given no\n",
    "\n",
    "def largeOfGiven(m):\n",
    "    x=0\n",
    "    while m!=0:\n",
    "        r=m%10\n",
    "        if x<r:\n",
    "            x=r\n",
    "        m=m//10\n",
    "    return x\n",
    "largeOfGiven(25364547)\n",
    "    \n",
    "   \n"
   ]
  },
  {
   "cell_type": "code",
   "execution_count": 23,
   "metadata": {},
   "outputs": [
    {
     "name": "stdout",
     "output_type": "stream",
     "text": [
      "YES\n",
      "NO\n"
     ]
    }
   ],
   "source": [
    "def factorial(n):\n",
    "    fact=1\n",
    "    i=1\n",
    "    while i <= n:\n",
    "        fact=fact*i\n",
    "        i=i+1\n",
    "    return fact\n",
    "\n",
    "def factorialSum(n):\n",
    "    s=0\n",
    "    buffer=n\n",
    "    while n!=0:\n",
    "        r= n% 10\n",
    "        s= s+factorial(r)\n",
    "        n=n//10\n",
    "    if buffer == s:\n",
    "        return \"YES\"\n",
    "    else:\n",
    "        return \"NO\"\n",
    "    return\n",
    "\n",
    "print(factorialSum(145))\n",
    "print(factorialSum(123))\n",
    "        \n",
    "    \n",
    "        \n",
    "    \n"
   ]
  },
  {
   "cell_type": "code",
   "execution_count": 24,
   "metadata": {},
   "outputs": [
    {
     "name": "stdout",
     "output_type": "stream",
     "text": [
      "Enter number:121\n",
      "The number is a palindrome!\n"
     ]
    }
   ],
   "source": [
    "#read a number as input\n",
    "#o/p as palindrome or not\n",
    "\n",
    "n=int(input(\"Enter number:\"))\n",
    "temp=n\n",
    "rev=0\n",
    "while(n>0):\n",
    "    dig=n%10\n",
    "    rev=rev*10+dig\n",
    "    n=n//10\n",
    "if(temp==rev):\n",
    "    print(\"The number is a palindrome!\")\n",
    "else:\n",
    "    print(\"The number isn't a palindrome!\")"
   ]
  },
  {
   "cell_type": "code",
   "execution_count": 33,
   "metadata": {},
   "outputs": [
    {
     "name": "stdout",
     "output_type": "stream",
     "text": [
      "yes\n",
      "no it is not\n"
     ]
    }
   ],
   "source": [
    "def palindromeOrNot(n):\n",
    "    temp=n\n",
    "    rev=0\n",
    "    while n!= 0 :\n",
    "        x = n % 10\n",
    "        rev = rev*10 + x\n",
    "        n=n//10\n",
    "    if temp == rev :\n",
    "        return \"yes\"\n",
    "    return \"no it is not\"\n",
    "    \n",
    "    \n",
    "print(palindromeOrNot(121))\n",
    "print(palindromeOrNot(12324))\n",
    "            "
   ]
  },
  {
   "cell_type": "code",
   "execution_count": 36,
   "metadata": {},
   "outputs": [
    {
     "name": "stdout",
     "output_type": "stream",
     "text": [
      "10 , 11 , 12 , 13 , 14 , 15 , 16 , 17 , 18 , 19 , 20 , 21 , 22 , 23 , 24 , "
     ]
    }
   ],
   "source": [
    "def printSeries(x,y):\n",
    "    for i in range(x,y):\n",
    "        print(i, end = \" , \")\n",
    "    return\n",
    "printSeries(10,25)\n"
   ]
  },
  {
   "cell_type": "code",
   "execution_count": 40,
   "metadata": {},
   "outputs": [
    {
     "name": "stdout",
     "output_type": "stream",
     "text": [
      "100 102 104 106 108 110 112 114 116 118 120 122 124 126 128 130 132 134 136 138 140 142 144 146 148 150 152 154 156 158 160 162 164 166 168 170 172 174 176 178 180 182 184 186 188 190 192 194 196 198 200 "
     ]
    }
   ],
   "source": [
    "def alternateNum(x,y):\n",
    "    for i in range(x,y+1,2):\n",
    "        print(i, end =\" \")\n",
    "    return\n",
    "alternateNum(100,200)"
   ]
  },
  {
   "cell_type": "code",
   "execution_count": null,
   "metadata": {},
   "outputs": [],
   "source": []
  }
 ],
 "metadata": {
  "kernelspec": {
   "display_name": "Python 3",
   "language": "python",
   "name": "python3"
  },
  "language_info": {
   "codemirror_mode": {
    "name": "ipython",
    "version": 3
   },
   "file_extension": ".py",
   "mimetype": "text/x-python",
   "name": "python",
   "nbconvert_exporter": "python",
   "pygments_lexer": "ipython3",
   "version": "3.7.3"
  }
 },
 "nbformat": 4,
 "nbformat_minor": 2
}
